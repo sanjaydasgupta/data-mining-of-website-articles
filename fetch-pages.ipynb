{
  "nbformat": 4,
  "nbformat_minor": 0,
  "metadata": {
    "colab": {
      "name": "fetch-logs.ipynb",
      "provenance": [],
      "collapsed_sections": []
    },
    "kernelspec": {
      "name": "python3",
      "display_name": "Python 3"
    }
  },
  "cells": [
    {
      "cell_type": "code",
      "metadata": {
        "id": "B7vi4btiWJLS"
      },
      "source": [
        ""
      ],
      "execution_count": null,
      "outputs": []
    },
    {
      "cell_type": "markdown",
      "metadata": {
        "id": "bLLjfQl7WRyK"
      },
      "source": [
        "## 2. How to Run this Notebook\n",
        "\n",
        "This notebook is [stored in GitBub](https://github.com/sanjaydasgupta/data-mining-of-website-articles/blob/master/fetch-pages.ipynb), and you can run it in Google colaboratory by clicking this link: [Run in Google Colaboratory](https://colab.research.google.com/github/sanjaydasgupta/data-mining-of-website-articles/blob/master/fetch-pages.ipynb)"
      ]
    }
  ]
}