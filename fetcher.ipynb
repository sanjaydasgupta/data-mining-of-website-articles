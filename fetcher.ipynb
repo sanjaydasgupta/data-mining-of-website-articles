{
  "nbformat": 4,
  "nbformat_minor": 0,
  "metadata": {
    "colab": {
      "name": "fetcher.ipynb",
      "provenance": [],
      "collapsed_sections": []
    },
    "kernelspec": {
      "name": "python3",
      "display_name": "Python 3"
    },
    "language_info": {
      "name": "python"
    }
  },
  "cells": [
    {
      "cell_type": "code",
      "execution_count": null,
      "metadata": {
        "id": "oFWiPJrjM6O5"
      },
      "outputs": [],
      "source": [
        "import requests\n",
        "from bs4 import BeautifulSoup\n",
        "import pandas as pd\n",
        "import numpy as np\n",
        "import re\n",
        "from datetime import datetime\n",
        "\n",
        "t0 = datetime.now()\n",
        "#url = 'https://test2.buildwhiz.com/bw-3.01/etc/BIDataConnector?key=sdg'\n",
        "url = 'https://www.buildwhiz.com/bw-3.01/etc/BIDataConnector?key=sdg'\n",
        "response = requests.get(url)\n",
        "print('HTTP Status:', response.status_code)\n",
        "dfs = {}\n",
        "if response.status_code == 200:\n",
        "  content = response.content\n",
        "  print('HTTP content Length:', len(content))\n",
        "  #bs = BeautifulSoup(content, 'html.parser')\n",
        "  bs = BeautifulSoup(content, 'lxml')\n",
        "  headings = [h2.text.lower() for h2 in bs.find_all('h2')]\n",
        "  print('HTTP headings:', headings)\n",
        "  html_tables = bs.find_all('table')\n",
        "  print('No of html-tables found:', len(html_tables))\n",
        "  converters = {'s': lambda str: str, 'csv': lambda str: [p.strip() for p in str.split(',')], \n",
        "      'i': int, 'b': lambda str: str == 'true', 'f': float, 'l': np.int64}\n",
        "  for heading, types, tbl in [(table['id'], table['types'], table) for table in  html_tables]:\n",
        "    tr_array = tbl.find_all('tr')\n",
        "    col_names = [td.text for td in tr_array[0].find_all('td')]\n",
        "    cfs = [converters[typ] for typ in types.split(',')]\n",
        "    data_rows = [[cf(td.text) if td.text else None for cf, td in zip(cfs, tr.find_all('td'))] for tr in tr_array[1:]]\n",
        "    print(\"%s[%s] (%d): %r\" % (heading, types, len(data_rows), col_names))\n",
        "    dfs[heading] = pd.DataFrame(data_rows, columns=col_names)\n",
        "  delay = datetime.now() - t0\n",
        "  print('timedelta:', delay)\n",
        "else:\n",
        "  print('Quitting due to HTTP error')"
      ]
    }
  ]
}