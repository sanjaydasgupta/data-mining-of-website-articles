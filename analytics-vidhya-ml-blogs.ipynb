{
  "nbformat": 4,
  "nbformat_minor": 0,
  "metadata": {
    "colab": {
      "name": "analytics-vidhya-ml-blogs.ipynb",
      "provenance": [],
      "collapsed_sections": []
    },
    "kernelspec": {
      "name": "python3",
      "display_name": "Python 3"
    }
  },
  "cells": [
    {
      "cell_type": "markdown",
      "metadata": {
        "id": "qh--H25z2Fsm"
      },
      "source": [
        "# Screen-Scrape Summaries of Machine Learning Blogs from Analytics Vidhya Website\n",
        "\n",
        "This Jupyter notebook extracts information about all of the Machine Learning blogs from the [ML blogs archive](https://www.analyticsvidhya.com/blog/category/machine-learning/) of the Analytics Vidhya website.\n",
        "\n",
        "To run this notebook on Colab, click [here](https://colab.research.google.com/github/sanjaydasgupta/data-mining-of-website-articles/blob/master/analytics-vidhya-ml-blogs.ipynb)."
      ]
    },
    {
      "cell_type": "code",
      "metadata": {
        "id": "iymvKp3e17FF"
      },
      "source": [
        "import requests\n",
        "from bs4 import BeautifulSoup\n",
        "import pandas as pd"
      ],
      "execution_count": null,
      "outputs": []
    },
    {
      "cell_type": "markdown",
      "metadata": {
        "id": "J3WsZhKckEPL"
      },
      "source": [
        "## Set number of blog arichive pages in cell below\n",
        "\n",
        "The number of blog archive pages is currently 45 (as on 30th Sept 2020, see bottom of [any ML blog archive page](https://www.analyticsvidhya.com/blog/category/machine-learning/page/3/)). This number, plus one, has to be set as the upper limit of the `range` in the last line of code in the cell below."
      ]
    },
    {
      "cell_type": "code",
      "metadata": {
        "id": "haiM5it2o76p"
      },
      "source": [
        "url_template = 'https://www.analyticsvidhya.com/blog/category/machine-learning/page/%d/'\n",
        "\n",
        "def articles_from_page(page_no):\n",
        "  page = requests.get(url_template % page_no)\n",
        "  if page.status_code != 200:\n",
        "    raise ValueError(page)\n",
        "  html = BeautifulSoup(page.content, 'html.parser')\n",
        "  a_and_p_values = [(art.find('h3').find('a'), art.find('p'))for art in html.find_all('article')]\n",
        "  articles = [(ap[0]['href'], ap[0]['title'], ap[1].string if ap[1] else None) for ap in a_and_p_values]\n",
        "  #print(page_no, len(articles))\n",
        "  return articles\n",
        "\n",
        "paged_articles = [articles_from_page(pn) for pn in range(1, 46)]"
      ],
      "execution_count": null,
      "outputs": []
    },
    {
      "cell_type": "markdown",
      "metadata": {
        "id": "QuOMTRGpkzH6"
      },
      "source": [
        "## Data file (CSV) created by cell below\n",
        "\n",
        "The following code creates a file named `articles.csv` containing information about all the blogs (621 as on 30th September 2020). The file has three columns: _url_, _title_, and _summary_, and can be directly read by pandas\\' [read_csv](https://pandas.pydata.org/pandas-docs/stable/reference/api/pandas.read_csv.html) for further processing."
      ]
    },
    {
      "cell_type": "code",
      "metadata": {
        "id": "4ecBDwcGneKn"
      },
      "source": [
        "from functools import reduce\n",
        "all_articles = reduce(lambda a, b: a + b, paged_articles)\n",
        "df = pd.DataFrame(all_articles, columns=['url', 'title', 'summary'])\n",
        "df.to_csv('articles.csv')"
      ],
      "execution_count": null,
      "outputs": []
    },
    {
      "cell_type": "code",
      "metadata": {
        "id": "IPaeTYS6xp41",
        "outputId": "1ad20800-2bba-4fe4-8789-f37cdd32d576",
        "colab": {
          "base_uri": "https://localhost:8080/",
          "height": 527
        }
      },
      "source": [
        "all_articles[:10]"
      ],
      "execution_count": null,
      "outputs": [
        {
          "output_type": "execute_result",
          "data": {
            "text/plain": [
              "[('https://www.analyticsvidhya.com/blog/2020/09/machine-learning-in-cyber-security-malicious-software-installation/',\n",
              "  'Machine Learning in Cyber Security — Malicious Software Installation',\n",
              "  'Introduction Monitoring of user activities performed by local administrators is always a challenge for SOC analysts and security professionals. Most of the security framework … '),\n",
              " ('https://www.analyticsvidhya.com/blog/2020/09/how-to-build-forecast-excel/',\n",
              "  'How to Build a Sales Forecast using Microsoft Excel in Just 10 Minutes!',\n",
              "  'Overview Learn how to build an accurate forecast in Excel – a classic technique to have for any analytics professional We’ll work on a … '),\n",
              " ('https://www.analyticsvidhya.com/blog/2020/09/how-dbscan-clustering-works/',\n",
              "  'How to Master the Popular DBSCAN Clustering Algorithm for Machine Learning',\n",
              "  'Overview DBSCAN clustering is an underrated yet super useful clustering algorithm for unsupervised learning problems Learn how DBSCAN clustering works, why you should learn … '),\n",
              " ('https://www.analyticsvidhya.com/blog/2020/09/integrating-machine-learning-into-web-applications-with-flask/',\n",
              "  'How to Integrate Machine Learning into Web Applications with Flask',\n",
              "  'We all have come across various web applications that use machine learning. For example, Netflix and YouTube use ML to personalize your experience by … '),\n",
              " ('https://www.analyticsvidhya.com/blog/2020/09/precision-recall-machine-learning/',\n",
              "  'Precision vs. Recall – An Intuitive Guide for Every Machine Learning Person',\n",
              "  'Overview Precision and recall are two crucial yet misunderstood topics in machine learning We’ll discuss what precision and recall are, how they work, and … '),\n",
              " ('https://www.analyticsvidhya.com/blog/2020/09/web-application/',\n",
              "  'The Lifecycle to Build a Web Application for Prediction from Scratch',\n",
              "  'The data science lifecycle is designed for big data issues and data science projects. Generally, the data science project consists of seven steps which … '),\n",
              " ('https://www.analyticsvidhya.com/blog/2020/08/plotting-decision-surface-for-classification-machine-learning-algorithms/',\n",
              "  'Plotting Decision Surface for Classification Machine Learning Algorithms',\n",
              "  'Overview Machine Learning algorithms for classification involve learning how to assign classes to observations. There are nuances to every algorithm. Each algorithm differs in … '),\n",
              " ('https://www.analyticsvidhya.com/blog/2020/08/types-of-categorical-data-encoding/',\n",
              "  'Here’s All you Need to Know About Encoding Categorical Data (with Python code)',\n",
              "  'Overview Understand what is Categorical Data Encoding Learn different encoding techniques and when to use them \\xa0 Introduction The performance of a machine learning … '),\n",
              " ('https://www.analyticsvidhya.com/blog/2020/08/bias-and-variance-tradeoff-machine-learning/',\n",
              "  'Bias and Variance in Machine Learning – A Fantastic Guide for Beginners!',\n",
              "  'Overview Learn to interpret Bias and Variance in a given model. What is the difference between Bias and Variance? How to achieve Bias and … '),\n",
              " ('https://www.analyticsvidhya.com/blog/2020/08/building-sales-prediction-web-application-using-machine-learning-dataset/',\n",
              "  'Building Sales Prediction Web Application using Machine Learning Dataset',\n",
              "  'Introduction There are a lot of resources on the internet about finding insights and training models on machine learning datasets however very few articles … ')]"
            ]
          },
          "metadata": {
            "tags": []
          },
          "execution_count": 5
        }
      ]
    }
  ]
}