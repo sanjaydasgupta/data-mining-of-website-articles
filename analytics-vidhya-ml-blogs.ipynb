{
  "nbformat": 4,
  "nbformat_minor": 0,
  "metadata": {
    "colab": {
      "name": "analytics-vidhya-ml-blogs.ipynb",
      "provenance": [],
      "collapsed_sections": []
    },
    "kernelspec": {
      "name": "python3",
      "display_name": "Python 3"
    }
  },
  "cells": [
    {
      "cell_type": "markdown",
      "metadata": {
        "id": "qh--H25z2Fsm"
      },
      "source": [
        "# Screen-Scrape Summaries of Machine Learning Blogs from Analytics Vidhya Website\n",
        "\n",
        "This Jupyter notebook extracts information about all of the Machine Learning blogs from the [ML blogs archive](https://www.analyticsvidhya.com/blog/category/machine-learning/) of the Analytics Vidhya website.\n",
        "\n",
        "To run this notebook on Colab, click [here](https://colab.research.google.com/github/sanjaydasgupta/data-mining-of-website-articles/blob/master/analytics-vidhya-ml-blogs.ipynb)."
      ]
    },
    {
      "cell_type": "code",
      "metadata": {
        "id": "iymvKp3e17FF"
      },
      "source": [
        "import requests\n",
        "from bs4 import BeautifulSoup\n",
        "import pandas as pd\n",
        "from functools import reduce"
      ],
      "execution_count": 1,
      "outputs": []
    },
    {
      "cell_type": "markdown",
      "metadata": {
        "id": "J3WsZhKckEPL"
      },
      "source": [
        "## Fetch List of Blog Records"
      ]
    },
    {
      "cell_type": "code",
      "metadata": {
        "id": "haiM5it2o76p",
        "outputId": "e4133c06-5abc-49f3-f2e0-1881b28694f2",
        "colab": {
          "base_uri": "https://localhost:8080/"
        }
      },
      "source": [
        "url_template = 'https://www.analyticsvidhya.com/blog/category/machine-learning/page/%d/'\n",
        "\n",
        "def articles_from_page(page_no):\n",
        "  page = requests.get(url_template % page_no)\n",
        "  if page.status_code != 200:\n",
        "    return (page.status_code, None)\n",
        "  html = BeautifulSoup(page.content, 'html.parser')\n",
        "  fields = [(art.find('time')['datetime'], art.find('span'), art.find('h3').find('a'), art.find('p')) \n",
        "      for art in html.find_all('article')]\n",
        "  articles = [(field[0], field[1].find('a').string if field[1] else None, \n",
        "      field[1].find('a')['href'] if field[1] else None, field[2]['title'], field[2]['href'], \n",
        "      field[3].string if field[3] else None, page_no) for field in fields]\n",
        "  #print(page_no, len(articles))\n",
        "  return (page.status_code, articles)\n",
        "\n",
        "paged_articles = []\n",
        "for page in range(1, 100):\n",
        "  status, articles = articles_from_page(page)\n",
        "  if status != 200:\n",
        "    break\n",
        "  paged_articles.extend(articles)\n",
        "\n",
        "print('Got %d articles' % len(paged_articles))"
      ],
      "execution_count": 16,
      "outputs": [
        {
          "output_type": "stream",
          "text": [
            "Got 683 articles\n"
          ],
          "name": "stdout"
        }
      ]
    },
    {
      "cell_type": "markdown",
      "metadata": {
        "id": "QuOMTRGpkzH6"
      },
      "source": [
        "## Data file (CSV) created by cell below\n",
        "\n",
        "The following code creates a file named `articles.csv` containing information about all the blogs (682 as on 5th November 2020). The file has six columns: _datetime_, _author_, <i>author_url</i>, _title_, _url_, and _summary_, and can be directly read by pandas\\' [read_csv](https://pandas.pydata.org/pandas-docs/stable/reference/api/pandas.read_csv.html) for further processing."
      ]
    },
    {
      "cell_type": "code",
      "metadata": {
        "id": "4ecBDwcGneKn",
        "outputId": "63c770b2-fac4-45ce-c127-b67928b0519e",
        "colab": {
          "base_uri": "https://localhost:8080/"
        }
      },
      "source": [
        "df = pd.DataFrame(paged_articles, columns=['datetime', 'author', 'author_url', 'title', 'url', 'summary', 'page_no'])\n",
        "print(df.shape)\n",
        "df.to_csv('articles.csv')"
      ],
      "execution_count": 17,
      "outputs": [
        {
          "output_type": "stream",
          "text": [
            "(683, 7)\n"
          ],
          "name": "stdout"
        }
      ]
    },
    {
      "cell_type": "code",
      "metadata": {
        "id": "IPaeTYS6xp41",
        "outputId": "2e204232-a266-4548-defb-fae32014e99e",
        "colab": {
          "base_uri": "https://localhost:8080/",
          "height": 580
        }
      },
      "source": [
        "df.sample(10)"
      ],
      "execution_count": 18,
      "outputs": [
        {
          "output_type": "execute_result",
          "data": {
            "text/html": [
              "<div>\n",
              "<style scoped>\n",
              "    .dataframe tbody tr th:only-of-type {\n",
              "        vertical-align: middle;\n",
              "    }\n",
              "\n",
              "    .dataframe tbody tr th {\n",
              "        vertical-align: top;\n",
              "    }\n",
              "\n",
              "    .dataframe thead th {\n",
              "        text-align: right;\n",
              "    }\n",
              "</style>\n",
              "<table border=\"1\" class=\"dataframe\">\n",
              "  <thead>\n",
              "    <tr style=\"text-align: right;\">\n",
              "      <th></th>\n",
              "      <th>datetime</th>\n",
              "      <th>author</th>\n",
              "      <th>author_url</th>\n",
              "      <th>title</th>\n",
              "      <th>url</th>\n",
              "      <th>summary</th>\n",
              "      <th>page_no</th>\n",
              "    </tr>\n",
              "  </thead>\n",
              "  <tbody>\n",
              "    <tr>\n",
              "      <th>390</th>\n",
              "      <td>2020-11-04T15:52:47+05:30</td>\n",
              "      <td>None</td>\n",
              "      <td>None</td>\n",
              "      <td>Create your Own Image Caption Generator using ...</td>\n",
              "      <td>https://www.analyticsvidhya.com/blog/2020/11/c...</td>\n",
              "      <td>None</td>\n",
              "      <td>28</td>\n",
              "    </tr>\n",
              "    <tr>\n",
              "      <th>670</th>\n",
              "      <td>2020-11-04T15:52:47+05:30</td>\n",
              "      <td>None</td>\n",
              "      <td>None</td>\n",
              "      <td>Create your Own Image Caption Generator using ...</td>\n",
              "      <td>https://www.analyticsvidhya.com/blog/2020/11/c...</td>\n",
              "      <td>None</td>\n",
              "      <td>48</td>\n",
              "    </tr>\n",
              "    <tr>\n",
              "      <th>222</th>\n",
              "      <td>2020-11-04T15:52:47+05:30</td>\n",
              "      <td>None</td>\n",
              "      <td>None</td>\n",
              "      <td>Create your Own Image Caption Generator using ...</td>\n",
              "      <td>https://www.analyticsvidhya.com/blog/2020/11/c...</td>\n",
              "      <td>None</td>\n",
              "      <td>16</td>\n",
              "    </tr>\n",
              "    <tr>\n",
              "      <th>391</th>\n",
              "      <td>2020-11-04T11:46:16+05:30</td>\n",
              "      <td>None</td>\n",
              "      <td>None</td>\n",
              "      <td>Top 5 Statistical Concepts Every Data Scientis...</td>\n",
              "      <td>https://www.analyticsvidhya.com/blog/2020/11/t...</td>\n",
              "      <td>None</td>\n",
              "      <td>28</td>\n",
              "    </tr>\n",
              "    <tr>\n",
              "      <th>153</th>\n",
              "      <td>2020-11-04T11:46:16+05:30</td>\n",
              "      <td>None</td>\n",
              "      <td>None</td>\n",
              "      <td>Top 5 Statistical Concepts Every Data Scientis...</td>\n",
              "      <td>https://www.analyticsvidhya.com/blog/2020/11/t...</td>\n",
              "      <td>None</td>\n",
              "      <td>11</td>\n",
              "    </tr>\n",
              "    <tr>\n",
              "      <th>529</th>\n",
              "      <td>2020-11-04T20:00:20+05:30</td>\n",
              "      <td>None</td>\n",
              "      <td>None</td>\n",
              "      <td>Artificial Intelligence in Agriculture : Using...</td>\n",
              "      <td>https://www.analyticsvidhya.com/blog/2020/11/a...</td>\n",
              "      <td>None</td>\n",
              "      <td>38</td>\n",
              "    </tr>\n",
              "    <tr>\n",
              "      <th>575</th>\n",
              "      <td>2015-11-26T20:43:34+05:30</td>\n",
              "      <td>Sunil Ray</td>\n",
              "      <td>https://www.analyticsvidhya.com/blog/author/su...</td>\n",
              "      <td>Simple Methods to deal with Categorical Variab...</td>\n",
              "      <td>https://www.analyticsvidhya.com/blog/2015/11/e...</td>\n",
              "      <td>Introduction Categorical variables are known t...</td>\n",
              "      <td>42</td>\n",
              "    </tr>\n",
              "    <tr>\n",
              "      <th>524</th>\n",
              "      <td>2016-03-22T19:04:32+05:30</td>\n",
              "      <td>Guest Blog</td>\n",
              "      <td>https://www.analyticsvidhya.com/blog/author/gu...</td>\n",
              "      <td>How to perform feature selection (i.e. pick im...</td>\n",
              "      <td>https://www.analyticsvidhya.com/blog/2016/03/s...</td>\n",
              "      <td>Introduction Variable selection is an importan...</td>\n",
              "      <td>38</td>\n",
              "    </tr>\n",
              "    <tr>\n",
              "      <th>92</th>\n",
              "      <td>2020-05-19T01:07:59+05:30</td>\n",
              "      <td>LAKSHAY ARORA</td>\n",
              "      <td>https://www.analyticsvidhya.com/blog/author/la...</td>\n",
              "      <td>Running Low on Time? Use PyCaret to Build your...</td>\n",
              "      <td>https://www.analyticsvidhya.com/blog/2020/05/p...</td>\n",
              "      <td>Overview PyCaret is a super useful and low-cod...</td>\n",
              "      <td>7</td>\n",
              "    </tr>\n",
              "    <tr>\n",
              "      <th>227</th>\n",
              "      <td>2018-09-27T20:00:52+05:30</td>\n",
              "      <td>Aishwarya Singh</td>\n",
              "      <td>https://www.analyticsvidhya.com/blog/author/ai...</td>\n",
              "      <td>A Multivariate Time Series Guide to Forecastin...</td>\n",
              "      <td>https://www.analyticsvidhya.com/blog/2018/09/m...</td>\n",
              "      <td>Vector Auto Regression method for forecasting ...</td>\n",
              "      <td>17</td>\n",
              "    </tr>\n",
              "  </tbody>\n",
              "</table>\n",
              "</div>"
            ],
            "text/plain": [
              "                      datetime  ... page_no\n",
              "390  2020-11-04T15:52:47+05:30  ...      28\n",
              "670  2020-11-04T15:52:47+05:30  ...      48\n",
              "222  2020-11-04T15:52:47+05:30  ...      16\n",
              "391  2020-11-04T11:46:16+05:30  ...      28\n",
              "153  2020-11-04T11:46:16+05:30  ...      11\n",
              "529  2020-11-04T20:00:20+05:30  ...      38\n",
              "575  2015-11-26T20:43:34+05:30  ...      42\n",
              "524  2016-03-22T19:04:32+05:30  ...      38\n",
              "92   2020-05-19T01:07:59+05:30  ...       7\n",
              "227  2018-09-27T20:00:52+05:30  ...      17\n",
              "\n",
              "[10 rows x 7 columns]"
            ]
          },
          "metadata": {
            "tags": []
          },
          "execution_count": 18
        }
      ]
    }
  ]
}