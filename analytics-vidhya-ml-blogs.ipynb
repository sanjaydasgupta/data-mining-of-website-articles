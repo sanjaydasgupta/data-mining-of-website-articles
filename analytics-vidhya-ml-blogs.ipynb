{
  "nbformat": 4,
  "nbformat_minor": 0,
  "metadata": {
    "colab": {
      "name": "analytics-vidhya-ml-blogs.ipynb",
      "provenance": [],
      "collapsed_sections": [],
      "include_colab_link": true
    },
    "kernelspec": {
      "name": "python3",
      "display_name": "Python 3"
    }
  },
  "cells": [
    {
      "cell_type": "markdown",
      "metadata": {
        "id": "view-in-github",
        "colab_type": "text"
      },
      "source": [
        "<a href=\"https://colab.research.google.com/github/sanjaydasgupta/data-mining-of-website-articles/blob/master/analytics-vidhya-ml-blogs.ipynb\" target=\"_parent\"><img src=\"https://colab.research.google.com/assets/colab-badge.svg\" alt=\"Open In Colab\"/></a>"
      ]
    },
    {
      "cell_type": "markdown",
      "metadata": {
        "id": "qh--H25z2Fsm"
      },
      "source": [
        "# Screen-Scrape Summaries of Machine Learning Blogs from Analytics Vidhya Website\n",
        "\n",
        "This Jupyter notebook extracts information about all of the Machine Learning blogs from the [ML blogs archive](https://www.analyticsvidhya.com/blog/category/machine-learning/) of the Analytics Vidhya website.\n",
        "\n",
        "To run this notebook on Colab, click [here](https://colab.research.google.com/github/sanjaydasgupta/data-mining-of-website-articles/blob/master/analytics-vidhya-ml-blogs.ipynb)."
      ]
    },
    {
      "cell_type": "code",
      "metadata": {
        "id": "iymvKp3e17FF"
      },
      "source": [
        "import requests\n",
        "from bs4 import BeautifulSoup\n",
        "import pandas as pd\n",
        "from tqdm import tqdm"
      ],
      "execution_count": 1,
      "outputs": []
    },
    {
      "cell_type": "markdown",
      "metadata": {
        "id": "J3WsZhKckEPL"
      },
      "source": [
        "## Fetch List of Blog Records"
      ]
    },
    {
      "cell_type": "code",
      "metadata": {
        "id": "haiM5it2o76p",
        "colab": {
          "base_uri": "https://localhost:8080/"
        },
        "outputId": "2ae6d231-1efe-46e2-be1a-da24b4762905"
      },
      "source": [
        "url_template = 'https://www.analyticsvidhya.com/blog/category/machine-learning/page/%d/'\n",
        "\n",
        "def articles_from_page(page_no):\n",
        "  page = requests.get(url_template % page_no)\n",
        "  if page.status_code != 200:\n",
        "    return (page.status_code, None)\n",
        "  html = BeautifulSoup(page.content, 'html.parser')\n",
        "  fields = [(art.find('time')['datetime'], art.find('span'), art.find('h3').find('a'), art.find('p')) \n",
        "      for art in html.find_all('article')]\n",
        "  articles = [(field[0], field[1].find('a').string if field[1] else None, \n",
        "      field[1].find('a')['href'] if field[1] else None, field[2]['title'], field[2]['href'], \n",
        "      field[3].string if field[3] else None, page_no) for field in fields]\n",
        "  #print(page_no, len(articles))\n",
        "  return (page.status_code, articles)\n",
        "\n",
        "paged_articles = []\n",
        "for page in tqdm(range(1, 101)):\n",
        "  status, articles = articles_from_page(page)\n",
        "  if status != 200:\n",
        "    break\n",
        "  paged_articles.extend(articles)\n",
        "\n",
        "print('\\nGot %d articles' % len(paged_articles))"
      ],
      "execution_count": 2,
      "outputs": [
        {
          "output_type": "stream",
          "text": [
            " 59%|█████▉    | 59/100 [02:20<01:41,  2.46s/it]"
          ],
          "name": "stderr"
        },
        {
          "output_type": "stream",
          "text": [
            "\n",
            "Got 817 articles\n"
          ],
          "name": "stdout"
        }
      ]
    },
    {
      "cell_type": "markdown",
      "metadata": {
        "id": "QuOMTRGpkzH6"
      },
      "source": [
        "## Data file (CSV) created by cell below\n",
        "\n",
        "The following code creates a file named `articles.csv` containing information about all the blogs (817 as of 7th March 2021). The file has six columns: _datetime_, _author_, <i>author_url</i>, _title_, _url_, and _summary_, and can be directly read by pandas\\' [read_csv](https://pandas.pydata.org/pandas-docs/stable/reference/api/pandas.read_csv.html) for further processing."
      ]
    },
    {
      "cell_type": "code",
      "metadata": {
        "id": "4ecBDwcGneKn",
        "colab": {
          "base_uri": "https://localhost:8080/"
        },
        "outputId": "1778f079-c0ae-414a-a56a-4c2bc037e56c"
      },
      "source": [
        "df = pd.DataFrame(paged_articles, columns=['datetime', 'author', 'author_url', 'title', 'url', 'summary', 'page_no'])\n",
        "print(df.shape)\n",
        "df.to_csv('articles.csv')"
      ],
      "execution_count": 3,
      "outputs": [
        {
          "output_type": "stream",
          "text": [
            "(817, 7)\n"
          ],
          "name": "stdout"
        }
      ]
    },
    {
      "cell_type": "code",
      "metadata": {
        "id": "IPaeTYS6xp41",
        "colab": {
          "base_uri": "https://localhost:8080/",
          "height": 529
        },
        "outputId": "b527fa4b-56a1-40b6-e274-884c7ce31850"
      },
      "source": [
        "df.sample(10)"
      ],
      "execution_count": 4,
      "outputs": [
        {
          "output_type": "execute_result",
          "data": {
            "text/html": [
              "<div>\n",
              "<style scoped>\n",
              "    .dataframe tbody tr th:only-of-type {\n",
              "        vertical-align: middle;\n",
              "    }\n",
              "\n",
              "    .dataframe tbody tr th {\n",
              "        vertical-align: top;\n",
              "    }\n",
              "\n",
              "    .dataframe thead th {\n",
              "        text-align: right;\n",
              "    }\n",
              "</style>\n",
              "<table border=\"1\" class=\"dataframe\">\n",
              "  <thead>\n",
              "    <tr style=\"text-align: right;\">\n",
              "      <th></th>\n",
              "      <th>datetime</th>\n",
              "      <th>author</th>\n",
              "      <th>author_url</th>\n",
              "      <th>title</th>\n",
              "      <th>url</th>\n",
              "      <th>summary</th>\n",
              "      <th>page_no</th>\n",
              "    </tr>\n",
              "  </thead>\n",
              "  <tbody>\n",
              "    <tr>\n",
              "      <th>75</th>\n",
              "      <td>2020-12-16T13:30:51+05:30</td>\n",
              "      <td>shanthababu</td>\n",
              "      <td>https://www.analyticsvidhya.com/blog/author/sh...</td>\n",
              "      <td>Understand Machine Learning and Its End-to-End...</td>\n",
              "      <td>https://www.analyticsvidhya.com/blog/2020/12/u...</td>\n",
              "      <td>ArticleVideo Book This article was published a...</td>\n",
              "      <td>6</td>\n",
              "    </tr>\n",
              "    <tr>\n",
              "      <th>652</th>\n",
              "      <td>2016-03-28T05:17:08+05:30</td>\n",
              "      <td>Analytics Vidhya</td>\n",
              "      <td>https://www.analyticsvidhya.com/blog/author/av...</td>\n",
              "      <td>Practical Guide to deal with Imbalanced Classi...</td>\n",
              "      <td>https://www.analyticsvidhya.com/blog/2016/03/p...</td>\n",
              "      <td>ArticleVideo Book Introduction We have several...</td>\n",
              "      <td>47</td>\n",
              "    </tr>\n",
              "    <tr>\n",
              "      <th>742</th>\n",
              "      <td>2015-08-02T19:27:33+05:30</td>\n",
              "      <td>Tavish Srivastava</td>\n",
              "      <td>https://www.analyticsvidhya.com/blog/author/ta...</td>\n",
              "      <td>Basics of Ensemble Learning Explained in Simpl...</td>\n",
              "      <td>https://www.analyticsvidhya.com/blog/2015/08/i...</td>\n",
              "      <td>ArticleVideo Book Introduction Ensemble modeli...</td>\n",
              "      <td>54</td>\n",
              "    </tr>\n",
              "    <tr>\n",
              "      <th>582</th>\n",
              "      <td>2016-11-18T05:22:29+05:30</td>\n",
              "      <td>Saurav Kaushik</td>\n",
              "      <td>https://www.analyticsvidhya.com/blog/author/sa...</td>\n",
              "      <td>An Introduction to APIs (Application Programmi...</td>\n",
              "      <td>https://www.analyticsvidhya.com/blog/2016/11/a...</td>\n",
              "      <td>ArticleVideo Book Introduction If you are in t...</td>\n",
              "      <td>42</td>\n",
              "    </tr>\n",
              "    <tr>\n",
              "      <th>732</th>\n",
              "      <td>2015-09-11T03:50:40+05:30</td>\n",
              "      <td>Tavish Srivastava</td>\n",
              "      <td>https://www.analyticsvidhya.com/blog/author/ta...</td>\n",
              "      <td>Learn Gradient Boosting Algorithm for better p...</td>\n",
              "      <td>https://www.analyticsvidhya.com/blog/2015/09/c...</td>\n",
              "      <td>ArticleVideo Book Introduction The accuracy of...</td>\n",
              "      <td>53</td>\n",
              "    </tr>\n",
              "    <tr>\n",
              "      <th>752</th>\n",
              "      <td>2021-03-05T16:47:13+05:30</td>\n",
              "      <td>None</td>\n",
              "      <td>None</td>\n",
              "      <td>Data Scientist’s Guide to Logistic regression</td>\n",
              "      <td>https://www.analyticsvidhya.com/blog/2021/03/l...</td>\n",
              "      <td>None</td>\n",
              "      <td>54</td>\n",
              "    </tr>\n",
              "    <tr>\n",
              "      <th>12</th>\n",
              "      <td>2021-03-05T13:44:17+05:30</td>\n",
              "      <td>None</td>\n",
              "      <td>None</td>\n",
              "      <td>Data Validation and Data Verification – From D...</td>\n",
              "      <td>https://www.analyticsvidhya.com/blog/2021/03/d...</td>\n",
              "      <td>None</td>\n",
              "      <td>1</td>\n",
              "    </tr>\n",
              "    <tr>\n",
              "      <th>128</th>\n",
              "      <td>2020-11-07T16:02:50+05:30</td>\n",
              "      <td>nandhini97</td>\n",
              "      <td>https://www.analyticsvidhya.com/blog/author/na...</td>\n",
              "      <td>Handling Imbalanced Data – Machine Learning, C...</td>\n",
              "      <td>https://www.analyticsvidhya.com/blog/2020/11/h...</td>\n",
              "      <td>ArticleVideo Book This article was published a...</td>\n",
              "      <td>10</td>\n",
              "    </tr>\n",
              "    <tr>\n",
              "      <th>584</th>\n",
              "      <td>2021-03-05T16:47:13+05:30</td>\n",
              "      <td>None</td>\n",
              "      <td>None</td>\n",
              "      <td>Data Scientist’s Guide to Logistic regression</td>\n",
              "      <td>https://www.analyticsvidhya.com/blog/2021/03/l...</td>\n",
              "      <td>None</td>\n",
              "      <td>42</td>\n",
              "    </tr>\n",
              "    <tr>\n",
              "      <th>802</th>\n",
              "      <td>2014-01-18T00:23:00+05:30</td>\n",
              "      <td>Tavish Srivastava</td>\n",
              "      <td>https://www.analyticsvidhya.com/blog/author/ta...</td>\n",
              "      <td>Framework to build logistic regression model i...</td>\n",
              "      <td>https://www.analyticsvidhya.com/blog/2014/01/l...</td>\n",
              "      <td>ArticleVideo Book Only 531 out of a population...</td>\n",
              "      <td>58</td>\n",
              "    </tr>\n",
              "  </tbody>\n",
              "</table>\n",
              "</div>"
            ],
            "text/plain": [
              "                      datetime  ... page_no\n",
              "75   2020-12-16T13:30:51+05:30  ...       6\n",
              "652  2016-03-28T05:17:08+05:30  ...      47\n",
              "742  2015-08-02T19:27:33+05:30  ...      54\n",
              "582  2016-11-18T05:22:29+05:30  ...      42\n",
              "732  2015-09-11T03:50:40+05:30  ...      53\n",
              "752  2021-03-05T16:47:13+05:30  ...      54\n",
              "12   2021-03-05T13:44:17+05:30  ...       1\n",
              "128  2020-11-07T16:02:50+05:30  ...      10\n",
              "584  2021-03-05T16:47:13+05:30  ...      42\n",
              "802  2014-01-18T00:23:00+05:30  ...      58\n",
              "\n",
              "[10 rows x 7 columns]"
            ]
          },
          "metadata": {
            "tags": []
          },
          "execution_count": 4
        }
      ]
    }
  ]
}