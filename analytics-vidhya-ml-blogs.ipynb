{
  "nbformat": 4,
  "nbformat_minor": 0,
  "metadata": {
    "colab": {
      "name": "analytics-vidhya-ml-blogs.ipynb",
      "provenance": [],
      "collapsed_sections": [],
      "include_colab_link": true
    },
    "kernelspec": {
      "name": "python3",
      "display_name": "Python 3"
    }
  },
  "cells": [
    {
      "cell_type": "markdown",
      "metadata": {
        "id": "view-in-github",
        "colab_type": "text"
      },
      "source": [
        "<a href=\"https://colab.research.google.com/github/sanjaydasgupta/data-mining-of-website-articles/blob/master/analytics-vidhya-ml-blogs.ipynb\" target=\"_parent\"><img src=\"https://colab.research.google.com/assets/colab-badge.svg\" alt=\"Open In Colab\"/></a>"
      ]
    },
    {
      "cell_type": "markdown",
      "metadata": {
        "id": "qh--H25z2Fsm"
      },
      "source": [
        "# Screen-Scrape Summaries of Machine Learning Blogs from Analytics Vidhya Website\n",
        "\n",
        "This Jupyter notebook extracts information about all of the Machine Learning blogs from the [ML blogs archive](https://www.analyticsvidhya.com/blog/category/machine-learning/) of the Analytics Vidhya website.\n",
        "\n",
        "To run this notebook on Colab, click [here](https://colab.research.google.com/github/sanjaydasgupta/data-mining-of-website-articles/blob/master/analytics-vidhya-ml-blogs.ipynb)."
      ]
    },
    {
      "cell_type": "code",
      "metadata": {
        "id": "iymvKp3e17FF"
      },
      "source": [
        "import requests\n",
        "from bs4 import BeautifulSoup\n",
        "import pandas as pd\n",
        "from tqdm import tqdm"
      ],
      "execution_count": 1,
      "outputs": []
    },
    {
      "cell_type": "markdown",
      "metadata": {
        "id": "J3WsZhKckEPL"
      },
      "source": [
        "## Fetch List of Blog Records"
      ]
    },
    {
      "cell_type": "code",
      "metadata": {
        "id": "haiM5it2o76p",
        "outputId": "d2c2202c-bdec-4486-9f5b-1f188c0d15d0",
        "colab": {
          "base_uri": "https://localhost:8080/"
        }
      },
      "source": [
        "url_template = 'https://www.analyticsvidhya.com/blog/category/machine-learning/page/%d/'\n",
        "\n",
        "def articles_from_page(page_no):\n",
        "  page = requests.get(url_template % page_no)\n",
        "  if page.status_code != 200:\n",
        "    return (page.status_code, None)\n",
        "  html = BeautifulSoup(page.content, 'html.parser')\n",
        "  fields = [(art.find('time')['datetime'], art.find('span'), art.find('h3').find('a'), art.find('p')) \n",
        "      for art in html.find_all('article')]\n",
        "  articles = [(field[0], field[1].find('a').string if field[1] else None, \n",
        "      field[1].find('a')['href'] if field[1] else None, field[2]['title'], field[2]['href'], \n",
        "      field[3].string if field[3] else None, page_no) for field in fields]\n",
        "  #print(page_no, len(articles))\n",
        "  return (page.status_code, articles)\n",
        "\n",
        "paged_articles = []\n",
        "for page in tqdm(range(1, 101)):\n",
        "  status, articles = articles_from_page(page)\n",
        "  if status != 200:\n",
        "    break\n",
        "  paged_articles.extend(articles)\n",
        "\n",
        "print('\\nGot %d articles' % len(paged_articles))"
      ],
      "execution_count": 4,
      "outputs": [
        {
          "output_type": "stream",
          "text": [
            " 49%|████▉     | 49/99 [01:10<00:46,  1.08it/s]"
          ],
          "name": "stderr"
        },
        {
          "output_type": "stream",
          "text": [
            "Got 683 articles\n"
          ],
          "name": "stdout"
        }
      ]
    },
    {
      "cell_type": "markdown",
      "metadata": {
        "id": "QuOMTRGpkzH6"
      },
      "source": [
        "## Data file (CSV) created by cell below\n",
        "\n",
        "The following code creates a file named `articles.csv` containing information about all the blogs (682 as on 5th November 2020). The file has six columns: _datetime_, _author_, <i>author_url</i>, _title_, _url_, and _summary_, and can be directly read by pandas\\' [read_csv](https://pandas.pydata.org/pandas-docs/stable/reference/api/pandas.read_csv.html) for further processing."
      ]
    },
    {
      "cell_type": "code",
      "metadata": {
        "id": "4ecBDwcGneKn",
        "outputId": "84dc741a-570d-4f98-8ff6-71c4fc4529c6",
        "colab": {
          "base_uri": "https://localhost:8080/"
        }
      },
      "source": [
        "df = pd.DataFrame(paged_articles, columns=['datetime', 'author', 'author_url', 'title', 'url', 'summary', 'page_no'])\n",
        "print(df.shape)\n",
        "df.to_csv('articles.csv')"
      ],
      "execution_count": 5,
      "outputs": [
        {
          "output_type": "stream",
          "text": [
            "(683, 7)\n"
          ],
          "name": "stdout"
        }
      ]
    },
    {
      "cell_type": "code",
      "metadata": {
        "id": "IPaeTYS6xp41",
        "outputId": "470f9948-5aa3-4157-eb49-f21807b66ee5",
        "colab": {
          "base_uri": "https://localhost:8080/",
          "height": 537
        }
      },
      "source": [
        "df.sample(10)"
      ],
      "execution_count": 6,
      "outputs": [
        {
          "output_type": "execute_result",
          "data": {
            "text/html": [
              "<div>\n",
              "<style scoped>\n",
              "    .dataframe tbody tr th:only-of-type {\n",
              "        vertical-align: middle;\n",
              "    }\n",
              "\n",
              "    .dataframe tbody tr th {\n",
              "        vertical-align: top;\n",
              "    }\n",
              "\n",
              "    .dataframe thead th {\n",
              "        text-align: right;\n",
              "    }\n",
              "</style>\n",
              "<table border=\"1\" class=\"dataframe\">\n",
              "  <thead>\n",
              "    <tr style=\"text-align: right;\">\n",
              "      <th></th>\n",
              "      <th>datetime</th>\n",
              "      <th>author</th>\n",
              "      <th>author_url</th>\n",
              "      <th>title</th>\n",
              "      <th>url</th>\n",
              "      <th>summary</th>\n",
              "      <th>page_no</th>\n",
              "    </tr>\n",
              "  </thead>\n",
              "  <tbody>\n",
              "    <tr>\n",
              "      <th>289</th>\n",
              "      <td>2018-03-26T03:18:09+05:30</td>\n",
              "      <td>Tavish Srivastava</td>\n",
              "      <td>https://www.analyticsvidhya.com/blog/author/ta...</td>\n",
              "      <td>Introduction to k-Nearest Neighbors: A powerfu...</td>\n",
              "      <td>https://www.analyticsvidhya.com/blog/2018/03/i...</td>\n",
              "      <td>ArticleAssess Yourself Note: This article was ...</td>\n",
              "      <td>21</td>\n",
              "    </tr>\n",
              "    <tr>\n",
              "      <th>333</th>\n",
              "      <td>2020-11-05T20:14:37+05:30</td>\n",
              "      <td>None</td>\n",
              "      <td>None</td>\n",
              "      <td>RDDs vs. Dataframes vs. Datasets – What is the...</td>\n",
              "      <td>https://www.analyticsvidhya.com/blog/2020/11/w...</td>\n",
              "      <td>None</td>\n",
              "      <td>24</td>\n",
              "    </tr>\n",
              "    <tr>\n",
              "      <th>395</th>\n",
              "      <td>2017-03-29T14:11:47+05:30</td>\n",
              "      <td>Yogesh Kulkarni</td>\n",
              "      <td>https://www.analyticsvidhya.com/blog/author/yo...</td>\n",
              "      <td>Extracting information from reports using Regu...</td>\n",
              "      <td>https://www.analyticsvidhya.com/blog/2017/03/e...</td>\n",
              "      <td>Introduction Many times it is necessary to ext...</td>\n",
              "      <td>29</td>\n",
              "    </tr>\n",
              "    <tr>\n",
              "      <th>513</th>\n",
              "      <td>2016-05-03T04:49:55+05:30</td>\n",
              "      <td>Analytics Vidhya</td>\n",
              "      <td>https://www.analyticsvidhya.com/blog/author/av...</td>\n",
              "      <td>data.table() vs data.frame() – Learn to work o...</td>\n",
              "      <td>https://www.analyticsvidhya.com/blog/2016/05/d...</td>\n",
              "      <td>Introduction R users (mostly beginners) strugg...</td>\n",
              "      <td>37</td>\n",
              "    </tr>\n",
              "    <tr>\n",
              "      <th>155</th>\n",
              "      <td>2019-07-26T09:14:46+05:30</td>\n",
              "      <td>Abir Mukherjee</td>\n",
              "      <td>https://www.analyticsvidhya.com/blog/author/am...</td>\n",
              "      <td>Introduction to Bayesian Adjustment Rating: Th...</td>\n",
              "      <td>https://www.analyticsvidhya.com/blog/2019/07/i...</td>\n",
              "      <td>Overview Curious how the big product companies...</td>\n",
              "      <td>12</td>\n",
              "    </tr>\n",
              "    <tr>\n",
              "      <th>146</th>\n",
              "      <td>2019-08-19T08:45:55+05:30</td>\n",
              "      <td>Pulkit Sharma</td>\n",
              "      <td>https://www.analyticsvidhya.com/blog/author/pu...</td>\n",
              "      <td>The Most Comprehensive Guide to K-Means Cluste...</td>\n",
              "      <td>https://www.analyticsvidhya.com/blog/2019/08/c...</td>\n",
              "      <td>Overview K-Means Clustering is a simple yet po...</td>\n",
              "      <td>11</td>\n",
              "    </tr>\n",
              "    <tr>\n",
              "      <th>124</th>\n",
              "      <td>2020-11-05T20:13:18+05:30</td>\n",
              "      <td>None</td>\n",
              "      <td>None</td>\n",
              "      <td>Lasso Regression causes sparsity while Ridge R...</td>\n",
              "      <td>https://www.analyticsvidhya.com/blog/2020/11/l...</td>\n",
              "      <td>None</td>\n",
              "      <td>9</td>\n",
              "    </tr>\n",
              "    <tr>\n",
              "      <th>335</th>\n",
              "      <td>2020-11-05T15:00:45+05:30</td>\n",
              "      <td>None</td>\n",
              "      <td>None</td>\n",
              "      <td>12 Essential Tips for People starting a Career...</td>\n",
              "      <td>https://www.analyticsvidhya.com/blog/2020/11/t...</td>\n",
              "      <td>None</td>\n",
              "      <td>24</td>\n",
              "    </tr>\n",
              "    <tr>\n",
              "      <th>164</th>\n",
              "      <td>2020-11-06T12:16:52+05:30</td>\n",
              "      <td>None</td>\n",
              "      <td>None</td>\n",
              "      <td>Summarize Twitter Live data using Pretrained N...</td>\n",
              "      <td>https://www.analyticsvidhya.com/blog/2020/11/s...</td>\n",
              "      <td>None</td>\n",
              "      <td>12</td>\n",
              "    </tr>\n",
              "    <tr>\n",
              "      <th>428</th>\n",
              "      <td>2016-12-23T05:11:35+05:30</td>\n",
              "      <td>Guest Blog</td>\n",
              "      <td>https://www.analyticsvidhya.com/blog/author/gu...</td>\n",
              "      <td>Artificial Intelligence Demystified</td>\n",
              "      <td>https://www.analyticsvidhya.com/blog/2016/12/a...</td>\n",
              "      <td>Introduction Artificial Intelligence has becom...</td>\n",
              "      <td>31</td>\n",
              "    </tr>\n",
              "  </tbody>\n",
              "</table>\n",
              "</div>"
            ],
            "text/plain": [
              "                      datetime  ... page_no\n",
              "289  2018-03-26T03:18:09+05:30  ...      21\n",
              "333  2020-11-05T20:14:37+05:30  ...      24\n",
              "395  2017-03-29T14:11:47+05:30  ...      29\n",
              "513  2016-05-03T04:49:55+05:30  ...      37\n",
              "155  2019-07-26T09:14:46+05:30  ...      12\n",
              "146  2019-08-19T08:45:55+05:30  ...      11\n",
              "124  2020-11-05T20:13:18+05:30  ...       9\n",
              "335  2020-11-05T15:00:45+05:30  ...      24\n",
              "164  2020-11-06T12:16:52+05:30  ...      12\n",
              "428  2016-12-23T05:11:35+05:30  ...      31\n",
              "\n",
              "[10 rows x 7 columns]"
            ]
          },
          "metadata": {
            "tags": []
          },
          "execution_count": 6
        }
      ]
    }
  ]
}