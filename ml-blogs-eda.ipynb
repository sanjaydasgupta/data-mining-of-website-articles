{
  "nbformat": 4,
  "nbformat_minor": 0,
  "metadata": {
    "colab": {
      "name": "ml-blogs-eda.ipynb",
      "provenance": [],
      "collapsed_sections": []
    },
    "kernelspec": {
      "name": "python3",
      "display_name": "Python 3"
    }
  },
  "cells": [
    {
      "cell_type": "markdown",
      "metadata": {
        "id": "fp799WtmwzFv"
      },
      "source": [
        "To run this file on Colab [click here](https://colab.research.google.com/github/sanjaydasgupta/data-mining-of-website-articles/blob/master/ml-blogs-eda.ipynb)"
      ]
    },
    {
      "cell_type": "code",
      "metadata": {
        "id": "BDufbUP_zOLr"
      },
      "source": [
        "import pandas as pd"
      ],
      "execution_count": 1,
      "outputs": []
    },
    {
      "cell_type": "code",
      "metadata": {
        "id": "otUlRgSCvlwH",
        "outputId": "2466e440-7e19-43d9-f7be-510b2100de07",
        "colab": {
          "base_uri": "https://localhost:8080/",
          "height": 34
        }
      },
      "source": [
        "df = pd.read_csv('articles.csv')\n",
        "df.shape"
      ],
      "execution_count": 7,
      "outputs": [
        {
          "output_type": "execute_result",
          "data": {
            "text/plain": [
              "(621, 6)"
            ]
          },
          "metadata": {
            "tags": []
          },
          "execution_count": 7
        }
      ]
    },
    {
      "cell_type": "code",
      "metadata": {
        "id": "_8EEsO_Ozd1u",
        "outputId": "eeb5d132-954d-4574-b8b1-08bdd214756c",
        "colab": {
          "base_uri": "https://localhost:8080/",
          "height": 289
        }
      },
      "source": [
        "df.head()"
      ],
      "execution_count": 8,
      "outputs": [
        {
          "output_type": "execute_result",
          "data": {
            "text/html": [
              "<div>\n",
              "<style scoped>\n",
              "    .dataframe tbody tr th:only-of-type {\n",
              "        vertical-align: middle;\n",
              "    }\n",
              "\n",
              "    .dataframe tbody tr th {\n",
              "        vertical-align: top;\n",
              "    }\n",
              "\n",
              "    .dataframe thead th {\n",
              "        text-align: right;\n",
              "    }\n",
              "</style>\n",
              "<table border=\"1\" class=\"dataframe\">\n",
              "  <thead>\n",
              "    <tr style=\"text-align: right;\">\n",
              "      <th></th>\n",
              "      <th>datetime</th>\n",
              "      <th>author</th>\n",
              "      <th>author_url</th>\n",
              "      <th>title</th>\n",
              "      <th>url</th>\n",
              "      <th>summary</th>\n",
              "    </tr>\n",
              "  </thead>\n",
              "  <tbody>\n",
              "    <tr>\n",
              "      <th>0</th>\n",
              "      <td>2020-09-16T17:33:43+05:30</td>\n",
              "      <td>Guest Blog</td>\n",
              "      <td>https://www.analyticsvidhya.com/blog/author/gu...</td>\n",
              "      <td>Machine Learning in Cyber Security — Malicious...</td>\n",
              "      <td>https://www.analyticsvidhya.com/blog/2020/09/m...</td>\n",
              "      <td>Introduction Monitoring of user activities per...</td>\n",
              "    </tr>\n",
              "    <tr>\n",
              "      <th>1</th>\n",
              "      <td>2020-09-13T21:03:14+05:30</td>\n",
              "      <td>Ram Dewani</td>\n",
              "      <td>https://www.analyticsvidhya.com/blog/author/ra...</td>\n",
              "      <td>How to Build a Sales Forecast using Microsoft ...</td>\n",
              "      <td>https://www.analyticsvidhya.com/blog/2020/09/h...</td>\n",
              "      <td>Overview Learn how to build an accurate foreca...</td>\n",
              "    </tr>\n",
              "    <tr>\n",
              "      <th>2</th>\n",
              "      <td>2020-09-08T00:00:23+05:30</td>\n",
              "      <td>Abhishek Sharma</td>\n",
              "      <td>https://www.analyticsvidhya.com/blog/author/ab...</td>\n",
              "      <td>How to Master the Popular DBSCAN Clustering Al...</td>\n",
              "      <td>https://www.analyticsvidhya.com/blog/2020/09/h...</td>\n",
              "      <td>Overview DBSCAN clustering is an underrated ye...</td>\n",
              "    </tr>\n",
              "    <tr>\n",
              "      <th>3</th>\n",
              "      <td>2020-09-05T21:00:14+05:30</td>\n",
              "      <td>Guest Blog</td>\n",
              "      <td>https://www.analyticsvidhya.com/blog/author/gu...</td>\n",
              "      <td>How to Integrate Machine Learning into Web App...</td>\n",
              "      <td>https://www.analyticsvidhya.com/blog/2020/09/i...</td>\n",
              "      <td>We all have come across various web applicatio...</td>\n",
              "    </tr>\n",
              "    <tr>\n",
              "      <th>4</th>\n",
              "      <td>2020-09-04T01:10:35+05:30</td>\n",
              "      <td>Purva Huilgol</td>\n",
              "      <td>https://www.analyticsvidhya.com/blog/author/pu...</td>\n",
              "      <td>Precision vs. Recall – An Intuitive Guide for ...</td>\n",
              "      <td>https://www.analyticsvidhya.com/blog/2020/09/p...</td>\n",
              "      <td>Overview Precision and recall are two crucial ...</td>\n",
              "    </tr>\n",
              "  </tbody>\n",
              "</table>\n",
              "</div>"
            ],
            "text/plain": [
              "                    datetime  ...                                            summary\n",
              "0  2020-09-16T17:33:43+05:30  ...  Introduction Monitoring of user activities per...\n",
              "1  2020-09-13T21:03:14+05:30  ...  Overview Learn how to build an accurate foreca...\n",
              "2  2020-09-08T00:00:23+05:30  ...  Overview DBSCAN clustering is an underrated ye...\n",
              "3  2020-09-05T21:00:14+05:30  ...  We all have come across various web applicatio...\n",
              "4  2020-09-04T01:10:35+05:30  ...  Overview Precision and recall are two crucial ...\n",
              "\n",
              "[5 rows x 6 columns]"
            ]
          },
          "metadata": {
            "tags": []
          },
          "execution_count": 8
        }
      ]
    }
  ]
}